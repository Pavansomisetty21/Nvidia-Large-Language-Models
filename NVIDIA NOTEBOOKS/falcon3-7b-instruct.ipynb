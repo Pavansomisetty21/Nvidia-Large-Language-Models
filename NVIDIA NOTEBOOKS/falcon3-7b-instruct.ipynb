{
 "cells": [
  {
   "cell_type": "code",
   "execution_count": 1,
   "id": "f3ebf286-2083-4067-be3c-5e21585db909",
   "metadata": {},
   "outputs": [
    {
     "name": "stderr",
     "output_type": "stream",
     "text": [
      "C:\\Users\\PavanSomisetty\\anaconda3\\envs\\chatai\\Lib\\site-packages\\langchain_nvidia_ai_endpoints\\_common.py:212: UserWarning: Found tiiuae/falcon3-7b-instruct in available_models, but type is unknown and inference may fail.\n",
      "  warnings.warn(\n"
     ]
    },
    {
     "name": "stdout",
     "output_type": "stream",
     "text": [
      "The Pythagorean Theorem states that in a right-angled triangle, the square of the length of the hypotenuse (the side opposite the right angle) is equal to the sum of the squares of the lengths of the other two sides. Mathematically, it is expressed as:\n",
      "\n",
      "= a^2 + b^2 \\]\n",
      "\n",
      "often referred to as the legs of the triangle).and \\( a \\) and \\( b \\) are the lengths of the other two sides (\n",
      "\n",
      "orean Theoremthe Pythag\n",
      "\n",
      " one of the most intuitive and classic proofs involves the use of similar triangles and geometric rearrangement. Here's a step-by-step outline of one such proof:\n",
      "\n",
      " **Start with a Right Triangle:**\n",
      " \\), \\( b \\), and hypotenuse \\( c \\).es \\( a\n",
      "\n",
      "2. **Construct a Square:**\n",
      " length \\( a + b \\). Inside this square, arrange four copies of the right triangle such that their hypotenuses form a smaller square in the center.\n",
      "\n",
      "3. **Calculate the Area of the Large Square:**\n",
      "   The area of the large square is \\((a + b)^2\\).\n",
      "\n",
      ":****Calculate the Area of the Four Triangles\n",
      "ab\\). Therefore, the total area of the four triangles is \\(4 \\times \\frac{1}{2}ab = 2ab\\).\n",
      "\n",
      "5. **Calculate the Area of the Inner Square:**\n",
      "   The remaining area inside the large square, which is not covered by the triangles, forms a smaller square with side length \\( c \\). The area of this smaller square is \\( c^2 \\).\n",
      "\n",
      "**Set Up the Equation:**\n",
      " the sum of the areas of the four triangles and the smaller square:\n",
      "\\[ \n",
      "+ c^2 + b)^2 = 2ab \n",
      "   \\]\n",
      "\n",
      "7. **Expand and Simplify:**\n",
      "   Expand the left side of the equation:\n",
      "   \\[\n",
      "2 + 2ab + b^2 = 2ab + c^2\n",
      "   \\]\n",
      "\n",
      " Terms:**el Out Common\n",
      "   Subtract \\( 2ab \\) from both sides:\n",
      "   \\[\n",
      "^2 a^2 + b^2 = c\n",
      "   \\]\n",
      "\n",
      "This completes the proof of the Pythagorean Theorem.\n",
      "\n",
      "### Conclusion\n",
      "\n",
      " triangle, the square of the hypotenuse is equal to the sum of the squares of the other two sides, which is the Pythagorean Theorem."
     ]
    }
   ],
   "source": [
    "from langchain_nvidia_ai_endpoints import ChatNVIDIA\n",
    "\n",
    "client = ChatNVIDIA(\n",
    "  model=\"tiiuae/falcon3-7b-instruct\",\n",
    "  api_key=\"api key\", \n",
    "  temperature=0.2,\n",
    "  top_p=0.7,\n",
    "  max_tokens=1024,\n",
    ")\n",
    "\n",
    "for chunk in client.stream([{\"role\":\"user\",\"content\":\"state and prove pythagorous theorem?\"}]): \n",
    "  print(chunk.content, end=\"\")\n",
    "\n",
    "  "
   ]
  },
  {
   "cell_type": "code",
   "execution_count": null,
   "id": "23c977eb-d790-484d-9159-5065d26ec92e",
   "metadata": {},
   "outputs": [],
   "source": []
  }
 ],
 "metadata": {
  "kernelspec": {
   "display_name": "Python 3 (ipykernel)",
   "language": "python",
   "name": "python3"
  },
  "language_info": {
   "codemirror_mode": {
    "name": "ipython",
    "version": 3
   },
   "file_extension": ".py",
   "mimetype": "text/x-python",
   "name": "python",
   "nbconvert_exporter": "python",
   "pygments_lexer": "ipython3",
   "version": "3.12.8"
  }
 },
 "nbformat": 4,
 "nbformat_minor": 5
}
