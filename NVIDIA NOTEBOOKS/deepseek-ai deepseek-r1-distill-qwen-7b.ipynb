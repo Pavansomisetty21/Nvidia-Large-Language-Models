{
 "cells": [
  {
   "cell_type": "code",
   "execution_count": 4,
   "id": "ee0a67b9-7b0e-48a3-a5fe-7b3916f5ff77",
   "metadata": {},
   "outputs": [
    {
     "name": "stderr",
     "output_type": "stream",
     "text": [
      "C:\\Users\\PavanSomisetty\\anaconda3\\envs\\chatai\\Lib\\site-packages\\langchain_nvidia_ai_endpoints\\_common.py:212: UserWarning: Found deepseek-ai/deepseek-r1-distill-qwen-7b in available_models, but type is unknown and inference may fail.\n",
      "  warnings.warn(\n"
     ]
    },
    {
     "name": "stdout",
     "output_type": "stream",
     "text": [
      "First, the farmer has a total of 17 sheep.\n",
      "\n",
      " but 9\" means that 9 sheep remain.\n",
      "\n",
      " 9 sheep., the farmer still has\n",
      "</think>\n",
      "\n",
      "**Solution:**\n",
      "\n",
      " step by step.wn the problem\n",
      "\n",
      "1. **Total Sheep:**\n",
      " has **17 sheep**.itially\n",
      "\n",
      "2. **Sheep That Run Away:**\n",
      "   - The phrase \"All but 9\" means that **all sheep except 9** run away.\n",
      " This implies that **9 sheep remain**.\n",
      "\n",
      "3. **Sheep the Farmer Still Has:**\n",
      "**.- Since 9 sheep are left, the farmer still has **9 sheep\n",
      "\n",
      "**Final Answer:**\n",
      "\\[\n",
      "\\boxed{9}\n",
      "\\]"
     ]
    }
   ],
   "source": [
    "from langchain_nvidia_ai_endpoints import ChatNVIDIA\n",
    "\n",
    "client = ChatNVIDIA(\n",
    "  model=\"deepseek-ai/deepseek-r1-distill-qwen-7b\",\n",
    "  api_key=\"api key\", \n",
    "  temperature=0.6,\n",
    "  top_p=0.7,\n",
    "  max_tokens=4096,\n",
    ")\n",
    "\n",
    "for chunk in client.stream([{\"role\":\"user\",\"content\":\"“A farmer has 17 sheep. All but 9 run away. How many sheep does the farmer still have?”\"}]): \n",
    "  print(chunk.content, end=\"\")\n",
    "\n"
   ]
  },
  {
   "cell_type": "code",
   "execution_count": null,
   "id": "0849c55f-2b84-4ffa-b929-b838c3e9caf9",
   "metadata": {},
   "outputs": [],
   "source": []
  }
 ],
 "metadata": {
  "kernelspec": {
   "display_name": "Python 3 (ipykernel)",
   "language": "python",
   "name": "python3"
  },
  "language_info": {
   "codemirror_mode": {
    "name": "ipython",
    "version": 3
   },
   "file_extension": ".py",
   "mimetype": "text/x-python",
   "name": "python",
   "nbconvert_exporter": "python",
   "pygments_lexer": "ipython3",
   "version": "3.12.8"
  }
 },
 "nbformat": 4,
 "nbformat_minor": 5
}
