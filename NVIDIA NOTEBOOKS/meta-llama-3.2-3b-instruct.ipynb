{
 "cells": [
  {
   "cell_type": "code",
   "execution_count": 12,
   "id": "f3ebf286-2083-4067-be3c-5e21585db909",
   "metadata": {},
   "outputs": [
    {
     "name": "stdout",
     "output_type": "stream",
     "text": [
      "A synthetic protein is a protein that is created in a laboratory using various techniques, rather than being produced naturally by an organism. Synthetic proteins are designed to have specific properties, functions, or characteristics that are not found in naturally occurring proteins.\n",
      "\n",
      "There are several ways to create synthetic proteins, including:\n",
      "\n",
      " use genetic engineering techniques to design and construct a protein from scratch, by combining different DNA sequences to create a new protein with desired properties.\n",
      " predict the structure and function of a protein, and then use molecular biology techniques to create it.\n",
      "Chemical synthesis**: Synthetic proteins can be created by chemically synthesizing the individual amino acids that make up the protein, and then assembling them into the final protein structure.\n",
      "\n",
      "Synthetic proteins have many potential applications, including:\n",
      "\n",
      "1. **Biotechnology**: Synthetic proteins can be used as enzymes, catalysts, or other biological molecules to improve industrial processes, such as biofuel production or pharmaceutical manufacturing.\n",
      " can be designed to target specific diseases, such as cancer or infectious diseases, and can be used as therapeutic agents or diagnostic tools.\n",
      ", or other agricultural chemicals to improve crop yields or reduce environmental impact.\n",
      " proteins can be used as models for studying human diseases, or as tools for understanding protein function and regulation.\n",
      "\n",
      "Some examples of synthetic proteins include:\n",
      "\n",
      " is produced through genetic engineering. to treat diabetes, and\n",
      " hormone deficiency.rmone**: Synthetic human growth hormone is used to treat growth\n",
      " used in various industrial applications, such as biofuel production and food processing.\n",
      " Synthetic antibodies, such as monoclonal antibodies, are used in medicine to treat a range of diseases, including cancer and autoimmune disorders.\n",
      "\n",
      " with specific properties and functions, which can have a wide range of applications in fields such as biotechnology, medicine, and agriculture."
     ]
    }
   ],
   "source": [
    "from langchain_nvidia_ai_endpoints import ChatNVIDIA\n",
    "\n",
    "client = ChatNVIDIA(\n",
    "  model=\"meta/llama-3.2-3b-instruct\",\n",
    "  api_key=\"api key\", \n",
    "  temperature=0.2,\n",
    "  top_p=0.7,\n",
    "  max_tokens=1024,\n",
    ")\n",
    "\n",
    "for chunk in client.stream([{\"role\":\"user\",\"content\":\"what is a synthetic protein?\"}]): \n",
    "  print(chunk.content, end=\"\")\n",
    "\n",
    "  \n"
   ]
  },
  {
   "cell_type": "code",
   "execution_count": null,
   "id": "23c977eb-d790-484d-9159-5065d26ec92e",
   "metadata": {},
   "outputs": [],
   "source": []
  }
 ],
 "metadata": {
  "kernelspec": {
   "display_name": "Python 3 (ipykernel)",
   "language": "python",
   "name": "python3"
  },
  "language_info": {
   "codemirror_mode": {
    "name": "ipython",
    "version": 3
   },
   "file_extension": ".py",
   "mimetype": "text/x-python",
   "name": "python",
   "nbconvert_exporter": "python",
   "pygments_lexer": "ipython3",
   "version": "3.12.8"
  }
 },
 "nbformat": 4,
 "nbformat_minor": 5
}
