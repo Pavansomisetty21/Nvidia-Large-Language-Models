{
 "cells": [
  {
   "cell_type": "code",
   "execution_count": 9,
   "id": "ee0a67b9-7b0e-48a3-a5fe-7b3916f5ff77",
   "metadata": {},
   "outputs": [
    {
     "name": "stdout",
     "output_type": "stream",
     "text": [
      "The code you provided is missing the function body. Based on your function name \"fabi\", I'm assuming that you want to generate the Fibonacci sequence. Here's a simple implementation of the Fibonacci sequence in Python:\n",
      "\n",
      "python\n",
      "def fabi(a, b):\n",
      "    sequence = [a, b]\n",
      " # Generate 10 numbers in the sequence\n",
      "        sequence.append(sequence[-1] + sequence[-2])\n",
      "    return sequence\n",
      "``\n",
      "\n",
      "fabi` takes two integers `a` and `b` as input. It initializes a list `sequence` with these two numbers. Then, it enters a loop that continues until the sequence has 10 numbers. In each iteration of the loop, it appends the sum of the last two numbers in the sequence to the sequence. Finally, it returns the sequence."
     ]
    }
   ],
   "source": [
    "from openai import OpenAI\n",
    "\n",
    "client = OpenAI(\n",
    "  base_url = \"https://integrate.api.nvidia.com/v1\",\n",
    "  api_key = \"api key\"\n",
    ")\n",
    "\n",
    "completion = client.chat.completions.create(\n",
    "  model=\"mistralai/mamba-codestral-7b-v0.1\",\n",
    "  messages=[{\"role\":\"user\",\"content\":\"complete the code for def fabi(int a,intb):\"}],\n",
    "  temperature=0.5,\n",
    "  top_p=1,\n",
    "  max_tokens=1024,\n",
    "  stream=True\n",
    ")\n",
    "\n",
    "for chunk in completion:\n",
    "  if chunk.choices[0].delta.content is not None:\n",
    "    print(chunk.choices[0].delta.content, end=\"\")\n",
    "\n"
   ]
  },
  {
   "cell_type": "code",
   "execution_count": null,
   "id": "0849c55f-2b84-4ffa-b929-b838c3e9caf9",
   "metadata": {},
   "outputs": [],
   "source": []
  }
 ],
 "metadata": {
  "kernelspec": {
   "display_name": "Python 3 (ipykernel)",
   "language": "python",
   "name": "python3"
  },
  "language_info": {
   "codemirror_mode": {
    "name": "ipython",
    "version": 3
   },
   "file_extension": ".py",
   "mimetype": "text/x-python",
   "name": "python",
   "nbconvert_exporter": "python",
   "pygments_lexer": "ipython3",
   "version": "3.12.8"
  }
 },
 "nbformat": 4,
 "nbformat_minor": 5
}
