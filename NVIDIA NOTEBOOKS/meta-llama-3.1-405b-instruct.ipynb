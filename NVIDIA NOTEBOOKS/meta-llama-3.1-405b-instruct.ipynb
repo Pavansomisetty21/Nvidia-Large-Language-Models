{
 "cells": [
  {
   "cell_type": "code",
   "execution_count": 15,
   "id": "f3ebf286-2083-4067-be3c-5e21585db909",
   "metadata": {},
   "outputs": [
    {
     "name": "stdout",
     "output_type": "stream",
     "text": [
      "I can generate some synthetic data on a fictional character named Pavan Somisetty. Please note that this data is entirely fictional and not based on any real individual.\n",
      "\n",
      "Here's a sample dataset:\n",
      "\n",
      "Personal Details:**\n",
      "\n",
      " Pavan Somisetty\n",
      " Age: 32\n",
      " of Birth: 12th February 1990\n",
      " Software Engineer\n",
      "123 Main St, Anytown, USA 12345\n",
      " Number: (555) 123-4567\n",
      " [pavan.somisetty@email.com](mailto:pavan.somisetty@email.com)\n",
      "\n",
      "Education:**\n",
      "\n",
      " in Computer Science from Stanford University (2012-2016)\n",
      " Master's Degree in Artificial Intelligence from Massachusetts Institute of Technology (2018-2020)\n",
      "\n",
      "**Work Experience:**\n",
      "\n",
      " (2016-2018)ngineer at Google\n",
      "* Senior Software Engineer at Microsoft (2020-Present)\n",
      "\n",
      ":**kills\n",
      "\n",
      ", Python, C++, JavaScriptJava\n",
      "* Development frameworks: Spring, Django, React\n",
      ": MySQL, MongoDB, PostgreSQL\n",
      "* Operating Systems: Windows, Linux, macOS\n",
      "\n",
      " Media:**\n",
      "\n",
      " linkedin.com/in/pavansomisetty\n",
      ": twitter.com/pavansomisetty\n",
      "/pavansomisettyebook.com\n",
      "\n",
      "Hobbies:**\n",
      "\n",
      " guitarng\n",
      "* Hiking\n",
      " Reading science fiction novels\n",
      " Cooking Indian cuisine\n",
      "\n",
      " History:**\n",
      "\n",
      " (2015, 2018)ia\n",
      " (2017)ed Europe\n",
      " Japan (2020)\n",
      "\n",
      " is just a sample dataset, and you can modify it as per your requirements. If you need more specific or detailed data, please let me know!"
     ]
    }
   ],
   "source": [
    "from langchain_nvidia_ai_endpoints import ChatNVIDIA\n",
    "\n",
    "client = ChatNVIDIA(\n",
    "  model=\"meta/llama-3.1-405b-instruct\",\n",
    "  api_key=\"api key\", \n",
    "  temperature=0.2,\n",
    "  top_p=0.7,\n",
    "  max_tokens=1024,\n",
    ")\n",
    "\n",
    "for chunk in client.stream([{\"role\":\"user\",\"content\":\"generate synthetic data on pavan somisetty\"}]): \n",
    "  print(chunk.content, end=\"\")\n",
    "\n",
    "  \n"
   ]
  },
  {
   "cell_type": "code",
   "execution_count": null,
   "id": "23c977eb-d790-484d-9159-5065d26ec92e",
   "metadata": {},
   "outputs": [],
   "source": []
  }
 ],
 "metadata": {
  "kernelspec": {
   "display_name": "Python 3 (ipykernel)",
   "language": "python",
   "name": "python3"
  },
  "language_info": {
   "codemirror_mode": {
    "name": "ipython",
    "version": 3
   },
   "file_extension": ".py",
   "mimetype": "text/x-python",
   "name": "python",
   "nbconvert_exporter": "python",
   "pygments_lexer": "ipython3",
   "version": "3.12.8"
  }
 },
 "nbformat": 4,
 "nbformat_minor": 5
}
