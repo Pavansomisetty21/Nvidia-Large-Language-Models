{
 "cells": [
  {
   "cell_type": "code",
   "execution_count": 14,
   "id": "f3ebf286-2083-4067-be3c-5e21585db909",
   "metadata": {},
   "outputs": [
    {
     "name": "stdout",
     "output_type": "stream",
     "text": [
      "Protein models are three-dimensional representations of the structure of proteins, which are complex molecules composed of amino acids. These models help scientists understand the shape and function of proteins, which is essential for understanding various biological processes. Here are some common protein models:\n",
      "\n",
      " structure formed by hydrogen bonds between amino acids. The alpha helix is a common secondary structure in proteins, where the polypeptide chain twists into a helical shape.\n",
      " planar structure formed by hydrogen bonds between amino acids. Beta sheets are composed of multiple beta strands, which are extended chains of amino acids that lie in the same plane.\n",
      " flexible region in a protein where the polypeptide chain changes direction. Beta turns are often found at the junction of alpha helices and beta sheets.\n",
      " Coiled coils are often found in proteins that interact with other proteins or DNA.ther, forming a coiled shape.\n",
      "5. **Beta Barrel**: A structure formed by multiple beta strands that fold into a cylindrical shape. Beta barrels are often found in proteins that form channels or pores in cell membranes.\n",
      "Rossmann Fold**: A structure formed by a beta sheet with a central alpha helix. Rossmann folds are often found in enzymes that bind to nucleotides or other small molecules.\n",
      " in proteins that interact with other proteins or the extracellular matrix.with a central alpha helix. Fn3 folds are often found\n",
      ". TIM barrels are often found in enzymes that catalyze reactions involving sugars or other small molecules.\n",
      " shape. Globular proteins often have a combination of alpha helices and beta sheets in their structure.\n",
      "-like structure formed by the aggregation of protein molecules. Fibrils are often found in proteins that are associated with neurodegenerative diseases, such as Alzheimer's or Parkinson's.\n",
      "\n",
      " proteins can have a combination of different structural elements. Understanding the structure of proteins is essential for understanding their function and how they interact with other molecules in the body.\n",
      "\n",
      "**Methods for building protein models:**\n",
      "\n",
      "**: A technique that uses X-rays to determine the three-dimensional structure of a protein.\n",
      "2. **Nuclear magnetic resonance (NMR) spectroscopy**: A technique that uses magnetic fields and radio waves to determine the three-dimensional structure of a protein.\n",
      " to simulate the behavior of a protein over time.ional method that uses algorithms\n",
      " A computational method that uses the structure of a related protein to build a model of a protein with a similar sequence.\n",
      "Ab initio modeling**: A computational method that uses algorithms to build a protein model from scratch, without relying on experimental data.\n",
      "\n",
      " used in combination to build accurate protein models, which are essential for understanding protein function and behavior."
     ]
    }
   ],
   "source": [
    "from langchain_nvidia_ai_endpoints import ChatNVIDIA\n",
    "\n",
    "client = ChatNVIDIA(\n",
    "  model=\"meta/llama-3.1-8b-instruct\",\n",
    "  api_key=\"api key\", \n",
    "  temperature=0.2,\n",
    "  top_p=0.7,\n",
    "  max_tokens=1024,\n",
    ")\n",
    "\n",
    "for chunk in client.stream([{\"role\":\"user\",\"content\":\"what are the protein models explain?\"}]): \n",
    "  print(chunk.content, end=\"\")\n",
    "\n",
    "  \n"
   ]
  },
  {
   "cell_type": "code",
   "execution_count": null,
   "id": "23c977eb-d790-484d-9159-5065d26ec92e",
   "metadata": {},
   "outputs": [],
   "source": []
  }
 ],
 "metadata": {
  "kernelspec": {
   "display_name": "Python 3 (ipykernel)",
   "language": "python",
   "name": "python3"
  },
  "language_info": {
   "codemirror_mode": {
    "name": "ipython",
    "version": 3
   },
   "file_extension": ".py",
   "mimetype": "text/x-python",
   "name": "python",
   "nbconvert_exporter": "python",
   "pygments_lexer": "ipython3",
   "version": "3.12.8"
  }
 },
 "nbformat": 4,
 "nbformat_minor": 5
}
