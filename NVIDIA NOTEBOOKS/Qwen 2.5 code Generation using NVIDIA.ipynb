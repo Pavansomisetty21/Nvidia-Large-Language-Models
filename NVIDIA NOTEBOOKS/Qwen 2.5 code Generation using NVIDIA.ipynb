{
 "cells": [
  {
   "cell_type": "code",
   "execution_count": 4,
   "id": "be2c5d49-bb3a-4d94-9483-e7bc78315925",
   "metadata": {},
   "outputs": [
    {
     "name": "stdout",
     "output_type": "stream",
     "text": [
      "LLM typically stands for \"Large Language Model.\" It refers to a type of artificial intelligence that has been trained on a vast corpus of text data to understand and generate human-like text. These models can perform a variety of tasks, such as answering questions, translating languages, summarizing text, and engaging in conversation. Examples of well-known LLMs include OpenAI's GPT series and Google's BERT."
     ]
    }
   ],
   "source": []
  },
  {
   "cell_type": "code",
   "execution_count": 10,
   "id": "ce50eef3-420f-451d-8b50-03e8bfb1dccd",
   "metadata": {},
   "outputs": [
    {
     "name": "stdout",
     "output_type": "stream",
     "text": [
      "Certainly! Below is the complete Python solution for the Emergency Room Patient Queue problem, including the function signature and a main block to demonstrate its usage.\n",
      "\n",
      "```python\n",
      "from typing import List, Dict\n",
      "\n",
      "(patients: List[Dict]) -> List[str]:\n",
      " based on severity (descending) and arrival_order (ascending)\n",
      "ients = sorted(patients, key=lambda x: (-x['severity'], x['arrival_order']))\n",
      " sorted order the names of the patients in the\n",
      " sorted_patients]er = [patient['name'] for patient in\n",
      "    return treatment_order\n",
      "\n",
      "# Example usage\n",
      " __name__ == \"__main__\":\n",
      "    patients = [\n",
      "\": \"Alice\", \"severity\": 5, \"arrival_order\": 0},\n",
      " \"arrival_order\": 1},\", \"severity\": 3,\n",
      " \"severity\": 5, \"arrival_order\": 2},\n",
      "name\": \"David\", \"severity\": 4, \"arrival_order\": 3},\n",
      "    ]\n",
      "    \n",
      "_order(patients)der = get_treatment\n",
      " [\"Alice\", \"Charlie\", \"David\", \"Bob\"]d Output:\n",
      "```\n",
      "\n",
      "### Explanation:\n",
      " used with a custom key. The key is a lambda function that sorts primarily by `severity` in descending order (`-x['severity']`) and secondarily by `arrival_order` in ascending order (`x['arrival_order']`).\n",
      ", a list comprehension is used to extract the names of the patients in the sorted order.\n",
      "name__ == \"__main__\":` block is used to demonstrate the function with an example input and print the expected output."
     ]
    }
   ],
   "source": [
    "from langchain_nvidia_ai_endpoints import ChatNVIDIA\n",
    "\n",
    "client = ChatNVIDIA(\n",
    "  model=\"qwen/qwen2.5-coder-32b-instruct\",\n",
    "  api_key=\"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\", \n",
    "  temperature=0.2,\n",
    "  top_p=0.7,\n",
    "  max_tokens=1024,\n",
    ")\n",
    "problem=\"\"\"\n",
    "---\n",
    "\n",
    "### 🏥 **DSA Problem: Emergency Room Patient Queue**\n",
    "\n",
    "**Scenario**:  \n",
    "You're building a simulation for an **emergency room**. Each patient has a **name**, a **severity level** (higher means more critical), and an **arrival order** (lower number means they came earlier).\n",
    "\n",
    "Your task is to design a system to determine the **order in which patients will be treated**, based on these rules:\n",
    "\n",
    "1. Patients with **higher severity** are treated first.\n",
    "2. If two patients have the same severity, the one who **arrived earlier** is treated first.\n",
    "\n",
    "---\n",
    "\n",
    "### **Input**\n",
    "\n",
    "A list of patients. Each patient is a dictionary with three fields:\n",
    "- `\"name\"`: str\n",
    "- `\"severity\"`: int\n",
    "- `\"arrival_order\"`: int\n",
    "\n",
    "**Example Input**:\n",
    "```python\n",
    "patients = [\n",
    "    {\"name\": \"Alice\", \"severity\": 5, \"arrival_order\": 0},\n",
    "    {\"name\": \"Bob\", \"severity\": 3, \"arrival_order\": 1},\n",
    "    {\"name\": \"Charlie\", \"severity\": 5, \"arrival_order\": 2},\n",
    "    {\"name\": \"David\", \"severity\": 4, \"arrival_order\": 3},\n",
    "]\n",
    "```\n",
    "\n",
    "---\n",
    "\n",
    "### **Output**\n",
    "\n",
    "Return a list of names of the patients, in the order they should be treated.\n",
    "\n",
    "**Expected Output**:\n",
    "```python\n",
    "[\"Alice\", \"Charlie\", \"David\", \"Bob\"]\n",
    "```\n",
    "\n",
    "---\n",
    "\n",
    "### **Function Signature**\n",
    "\n",
    "```python\n",
    "def get_treatment_order(patients: List[Dict]) -> List[str]:\n",
    "    pass\n",
    "```\n",
    "\n",
    "---\n",
    "\n",
    "### **Constraints**\n",
    "\n",
    "- 1 ≤ len(patients) ≤ 10⁴\n",
    "- 1 ≤ severity ≤ 10\n",
    "- 0 ≤ arrival_order < len(patients)\n",
    "### rules\n",
    "strictly give correct and full python code\n",
    "give only full python solution  for it with Function Signature and main correct syntax manner\n",
    "\"\"\"\n",
    "for chunk in client.stream([{\"role\":\"user\",\"content\":problem}]): \n",
    "  print(chunk.content, end=\"\")\n",
    "\n"
   ]
  },
  {
   "cell_type": "code",
   "execution_count": null,
   "id": "4294d5e0-1c6f-4848-8698-224593b136a6",
   "metadata": {},
   "outputs": [],
   "source": []
  }
 ],
 "metadata": {
  "kernelspec": {
   "display_name": "Python 3 (ipykernel)",
   "language": "python",
   "name": "python3"
  },
  "language_info": {
   "codemirror_mode": {
    "name": "ipython",
    "version": 3
   },
   "file_extension": ".py",
   "mimetype": "text/x-python",
   "name": "python",
   "nbconvert_exporter": "python",
   "pygments_lexer": "ipython3",
   "version": "3.12.8"
  }
 },
 "nbformat": 4,
 "nbformat_minor": 5
}
