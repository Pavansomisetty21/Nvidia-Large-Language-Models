{
 "cells": [
  {
   "cell_type": "code",
   "execution_count": 1,
   "id": "ee0a67b9-7b0e-48a3-a5fe-7b3916f5ff77",
   "metadata": {},
   "outputs": [
    {
     "name": "stdout",
     "output_type": "stream",
     "text": [
      "A brute force approach is a method of solving problems by trying every possible solution until the correct one is found. While this approach can be effective for small problems, it is generally not efficient for larger problems due to its exponential time complexity.\n",
      "\n",
      "'s a simple example of a brute force approach to find a password that matches a given hash. This example uses the `hashlib` library to generate MD5 hashes.\n",
      "\n",
      "```python\n",
      "import hashlib\n",
      "\n",
      " charset, max_length):rd(target_hash,\n",
      "    def generate_passwords(length):\n",
      "        if length == 0:\n",
      " \"\"         yield\n",
      "        else:\n",
      "            for char in charset:\n",
      "                for password in generate_passwords(length - 1):\n",
      "                    yield char + password\n",
      "\n",
      " in range(1, max_length + 1):\n",
      "        for password in generate_passwords(length):\n",
      " hash_object = hashlib.md5(password.encode())\n",
      " hash_object.hexdigest() == target_hash:\n",
      " return password\n",
      "    return None\n",
      "\n",
      "# Example usage\n",
      "5aa765d61d8327deb882cf99\"  # MD5 hash of \"password\"\n",
      " = \"abcdefghijklmnopqrstuvwxyzABCDEFGHIJKLMNOPQRSTUVWXYZ0123456789\"\n",
      "max_length = 10\n",
      "\n",
      " max_length)rute_force_password(target_hash, charset,\n",
      "if password:\n",
      "Password found: {password}\")\n",
      "else:\n",
      "(\"Password not found\")\n",
      "```\n",
      "\n",
      "### Explanation:\n",
      ". **generate_passwords**: This recursive generator function generates all possible passwords of a given length using the specified character set.\n",
      "**: This function iterates over all possible password lengths from 1 to `max_length` and checks each password against the target hash.\n",
      ".md5**: This function is used to generate MD5 hashes of the passwords.\n",
      "\n",
      "### Important Notes:\n",
      " **Security**: Brute force attacks are computationally expensive and can be very slow, especially for longer passwords or larger character sets.\n",
      " For practical purposes, more efficient algorithms or techniques (like dictionary attacks, rainbow tables, or using a GPU) should be considered.\n",
      " Considerations**: Brute force attacks can be illegal or unethical if used without permission. Always ensure you have proper authorization before attempting to crack passwords.\n",
      "\n",
      " for educational purposes only."
     ]
    }
   ],
   "source": [
    "from langchain_nvidia_ai_endpoints import ChatNVIDIA\n",
    "\n",
    "client = ChatNVIDIA(\n",
    "  model=\"qwen/qwen2.5-coder-7b-instruct\",\n",
    "  api_key=\"your api key\", \n",
    "  temperature=0.6,\n",
    "  top_p=0.7,\n",
    "  max_tokens=4096,\n",
    ")\n",
    "\n",
    "for chunk in client.stream([{\"role\":\"user\",\"content\":\"write a python code for brute force approach?\"}]): \n",
    "  print(chunk.content, end=\"\")\n",
    "\n"
   ]
  }
 ],
 "metadata": {
  "kernelspec": {
   "display_name": "Python 3 (ipykernel)",
   "language": "python",
   "name": "python3"
  },
  "language_info": {
   "codemirror_mode": {
    "name": "ipython",
    "version": 3
   },
   "file_extension": ".py",
   "mimetype": "text/x-python",
   "name": "python",
   "nbconvert_exporter": "python",
   "pygments_lexer": "ipython3",
   "version": "3.12.8"
  }
 },
 "nbformat": 4,
 "nbformat_minor": 5
}
