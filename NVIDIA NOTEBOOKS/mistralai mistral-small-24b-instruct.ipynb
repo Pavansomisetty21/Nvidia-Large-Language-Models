{
 "cells": [
  {
   "cell_type": "code",
   "execution_count": 7,
   "id": "ee0a67b9-7b0e-48a3-a5fe-7b3916f5ff77",
   "metadata": {},
   "outputs": [
    {
     "name": "stderr",
     "output_type": "stream",
     "text": [
      "C:\\Users\\PavanSomisetty\\anaconda3\\envs\\chatai\\Lib\\site-packages\\langchain_nvidia_ai_endpoints\\_common.py:212: UserWarning: Found mistralai/mistral-small-24b-instruct in available_models, but type is unknown and inference may fail.\n",
      "  warnings.warn(\n"
     ]
    },
    {
     "name": "stdout",
     "output_type": "stream",
     "text": [
      "FastDFS (Fast Distributed File System) is a high-performance distributed file system designed for large-scale file storage. To interact with FastDFS using Python, you can use the `fdfs_client` library. Below is an example of how to use FastDFS in Python to upload and download files.\n",
      "\n",
      "First, you need to install the `fdfs_client` library. You can do this using pip:\n",
      "\n",
      "```sh\n",
      "dfs_clientl f\n",
      "```\n",
      "\n",
      " can use the following Python code to interact with FastDFS:\n",
      "\n",
      "python\n",
      ".client import FdfsClient\n",
      "\n",
      " Configuration for FastDFS\n",
      " = {ig\n",
      " 'tracker_server': '127.0.0.1:22122',  # Replace with your tracker server address\n",
      "': '127.0.0.1:23000',  # Replace with your storage server address\n",
      "log_level': 'debug'\n",
      "}\n",
      "\n",
      "# Initialize the FastDFS client\n",
      " = FdfsClient(config)\n",
      "\n",
      " Upload a file\n",
      "_file(file_path):\n",
      "    try:\n",
      "        with open(file_path, 'rb') as file:\n",
      " = file.read()le_data\n",
      ".upload_by_buffer(file_data)\n",
      "        if result['Status'] == 'Upload successed.':\n",
      "            print(f\"File uploaded successfully. File ID: {result['Remote file_id']}\")\n",
      "Remote file_id']rn result['\n",
      "        else:\n",
      "            print(f\"File upload failed: {result['Status']}\")\n",
      "            return None\n",
      " Exception as e:\n",
      "\"An error occurred: {e}\")\n",
      "        return None\n",
      "\n",
      " Download a file\n",
      "def download_file(file_id, download_path):\n",
      "    try:\n",
      " result = client.download_to_file(file_id, download_path)\n",
      "Status'] == 'Download successed.':\n",
      "\"File downloaded successfully to {download_path}\")\n",
      "        else:\n",
      " print(f\"File download failed: {result['Status']}\")\n",
      " e: except Exception as\n",
      "(f\"An error occurred: {e}\")\n",
      "\n",
      "# Example usage\n",
      "__ == \"__main__\":\n",
      " file_path = 'path/to/your/file.txt'  # Replace with the path to your file\n",
      " upload_file(file_path)\n",
      "\n",
      " file_id:\n",
      " 'path/to/download/file.txt'  # Replace with the path to save the downloaded file\n",
      " download_file(file_id, download_path)\n",
      "```\n",
      "\n",
      ":## Explanation\n",
      " `config` dictionary contains the tracker server address and other configuration settings.\n",
      " The `FdfsClient` is initialized with the configuration.\n",
      " **Upload File**: The `upload_file` function reads the file from the specified path and uploads it to FastDFS. It returns the file ID if the upload is successful.\n",
      "4. **Download File**: The `download_file` function downloads the file from FastDFS using the file ID and saves it to the specified path.\n",
      "Example Usage**: The example usage demonstrates how to upload and download a file.\n",
      "\n",
      "### Notes:\n",
      "- Replace `'127.0.0.1:22122'` and `'127.0.0.1:23000'` with the actual addresses of your FastDFS tracker and storage servers.\n",
      " that the FastDFS server is running and accessible from your Python environment.\n",
      " errors appropriately in a production environment.\n",
      "\n",
      "This code provides a basic example of how to interact with FastDFS using Python. You can extend it to include more features and error handling as needed."
     ]
    }
   ],
   "source": [
    "from langchain_nvidia_ai_endpoints import ChatNVIDIA\n",
    "\n",
    "client = ChatNVIDIA(\n",
    "  model=\"mistralai/mistral-small-24b-instruct\",\n",
    "  api_key=\"api key\", \n",
    "  temperature=0.2,\n",
    "  top_p=0.7,\n",
    "  max_tokens=1024,\n",
    ")\n",
    "\n",
    "for chunk in client.stream([{\"role\":\"user\",\"content\":\"write a code on fdfs in python?\"}]): \n",
    "  print(chunk.content, end=\"\")\n",
    "\n"
   ]
  },
  {
   "cell_type": "code",
   "execution_count": null,
   "id": "0849c55f-2b84-4ffa-b929-b838c3e9caf9",
   "metadata": {},
   "outputs": [],
   "source": []
  }
 ],
 "metadata": {
  "kernelspec": {
   "display_name": "Python 3 (ipykernel)",
   "language": "python",
   "name": "python3"
  },
  "language_info": {
   "codemirror_mode": {
    "name": "ipython",
    "version": 3
   },
   "file_extension": ".py",
   "mimetype": "text/x-python",
   "name": "python",
   "nbconvert_exporter": "python",
   "pygments_lexer": "ipython3",
   "version": "3.12.8"
  }
 },
 "nbformat": 4,
 "nbformat_minor": 5
}
