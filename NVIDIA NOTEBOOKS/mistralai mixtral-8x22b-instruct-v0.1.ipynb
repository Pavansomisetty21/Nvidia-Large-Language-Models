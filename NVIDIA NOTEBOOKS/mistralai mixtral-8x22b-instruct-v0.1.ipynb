{
 "cells": [
  {
   "cell_type": "code",
   "execution_count": 18,
   "id": "ee0a67b9-7b0e-48a3-a5fe-7b3916f5ff77",
   "metadata": {},
   "outputs": [
    {
     "name": "stdout",
     "output_type": "stream",
     "text": [
      "Let's reason through this problem:\n",
      "\n",
      ".. We know that each box is labeled incorrectly\n",
      " this box must contain only one type of fruit.Oranges.\" Since the label is wrong,\n",
      " box. For simplicity, let's say you get an apple. This means the box is actually the \"Apples\" box.\n",
      " box (because all labels are wrong), it must be the \"Apples and Oranges\" box.\n",
      "5. Finally, the remaining box, which is labeled \"Oranges,\" must be the \"Oranges\" box because the other two boxes' contents are now identified.\n",
      "\n",
      " labeled \"Apples and Oranges,\" you can deduce the correct labels for all three boxes."
     ]
    }
   ],
   "source": [
    "from langchain_nvidia_ai_endpoints import ChatNVIDIA\n",
    "\n",
    "client = ChatNVIDIA(\n",
    "  model=\"mistralai/mixtral-8x22b-instruct-v0.1\",\n",
    "  api_key=\"api key\", \n",
    "  temperature=0.5,\n",
    "  top_p=1,\n",
    "  max_tokens=1024,\n",
    ")\n",
    "\n",
    "for chunk in client.stream([{\"role\":\"user\",\"content\":\"There are three boxes. One contains only apples, one contains only oranges, and one contains both apples and oranges. The boxes are labeled, but each label is wrong. You can reach into only one box, without looking, and pull out one fruit.How can you label all the boxes correctly?\"}]): \n",
    "  print(chunk.content, end=\"\")\n",
    "\n"
   ]
  },
  {
   "cell_type": "code",
   "execution_count": null,
   "id": "0849c55f-2b84-4ffa-b929-b838c3e9caf9",
   "metadata": {},
   "outputs": [],
   "source": []
  }
 ],
 "metadata": {
  "kernelspec": {
   "display_name": "Python 3 (ipykernel)",
   "language": "python",
   "name": "python3"
  },
  "language_info": {
   "codemirror_mode": {
    "name": "ipython",
    "version": 3
   },
   "file_extension": ".py",
   "mimetype": "text/x-python",
   "name": "python",
   "nbconvert_exporter": "python",
   "pygments_lexer": "ipython3",
   "version": "3.12.8"
  }
 },
 "nbformat": 4,
 "nbformat_minor": 5
}
