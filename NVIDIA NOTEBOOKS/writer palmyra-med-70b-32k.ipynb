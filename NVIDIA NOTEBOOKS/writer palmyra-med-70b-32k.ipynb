{
 "cells": [
  {
   "cell_type": "code",
   "execution_count": 5,
   "id": "e0f113bc-fdd6-4ddf-b671-b8f3805e14c9",
   "metadata": {},
   "outputs": [
    {
     "name": "stdout",
     "output_type": "stream",
     "text": [
      "Newborn jaundice typically appears within the first 24 hours of life and usually peaks around 3-5 days after birth. In most cases, it resolves on its own within 1-2 weeks without treatment. However, the exact duration can vary depending on the severity of the jaundice and other factors such as the baby's overall health and feeding habits. It's important to monitor the baby's bilirubin levels and seek medical attention if the jaundice appears to be worsening or if the baby shows signs of distress."
     ]
    }
   ],
   "source": [
    "from openai import OpenAI\n",
    "\n",
    "client = OpenAI(\n",
    "  base_url = \"https://integrate.api.nvidia.com/v1\",\n",
    "  api_key = \"api key\"\n",
    ")\n",
    "\n",
    "completion = client.chat.completions.create(\n",
    "  model=\"writer/palmyra-med-70b-32k\",\n",
    "  messages=[{\"role\":\"user\",\"content\":\"How long does it take for newborn jaundice to go away?\"}],\n",
    "  temperature=0.2,\n",
    "  top_p=0.7,\n",
    "  max_tokens=1024,\n",
    "  stream=True\n",
    ")\n",
    "\n",
    "for chunk in completion:\n",
    "  if chunk.choices[0].delta.content is not None:\n",
    "    print(chunk.choices[0].delta.content, end=\"\")\n",
    "\n"
   ]
  },
  {
   "cell_type": "code",
   "execution_count": null,
   "id": "d5204cde-78cb-4a2f-a599-d58e9f0c164a",
   "metadata": {},
   "outputs": [],
   "source": []
  }
 ],
 "metadata": {
  "kernelspec": {
   "display_name": "Python 3 (ipykernel)",
   "language": "python",
   "name": "python3"
  },
  "language_info": {
   "codemirror_mode": {
    "name": "ipython",
    "version": 3
   },
   "file_extension": ".py",
   "mimetype": "text/x-python",
   "name": "python",
   "nbconvert_exporter": "python",
   "pygments_lexer": "ipython3",
   "version": "3.12.8"
  }
 },
 "nbformat": 4,
 "nbformat_minor": 5
}
