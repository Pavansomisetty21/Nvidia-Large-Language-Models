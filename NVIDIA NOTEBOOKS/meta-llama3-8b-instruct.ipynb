{
 "cells": [
  {
   "cell_type": "code",
   "execution_count": 8,
   "id": "f3ebf286-2083-4067-be3c-5e21585db909",
   "metadata": {},
   "outputs": [
    {
     "name": "stdout",
     "output_type": "stream",
     "text": [
      "Here is an example of tree recursion and indirect recursion using classes in Python:\n",
      "\n",
      "**Tree Recursion**\n",
      "```\n",
      "class Node:\n",
      "self, value):t__(\n",
      "        self.value = value\n",
      "        self.left = None\n",
      "        self.right = None\n",
      "\n",
      "    def tree_recursion(self, depth):\n",
      "        if depth == 0:\n",
      "            print(self.value)\n",
      "        else:\n",
      ".left:      if self\n",
      "                self.left.tree_recursion(depth - 1)\n",
      "            if self.right:\n",
      "                self.right.tree_recursion(depth - 1)\n",
      "\n",
      "root = Node(1)\n",
      "2)ot.left = Node(\n",
      "root.right = Node(3)\n",
      "root.left.left = Node(4)\n",
      "root.left.right = Node(5)\n",
      "\n",
      " 4, 5, 3e_recursion(2)  # Output: 1, 2,\n",
      "```\n",
      "` method is a recursive method that prints the value of the current node and recursively calls itself on the left and right subtrees, with a decreasing depth.\n",
      "\n",
      "**Indirect Recursion**\n",
      "```\n",
      ":lass Node\n",
      "    def __init__(self, value):\n",
      "        self.value = value\n",
      "        self.next = None\n",
      "\n",
      "    def indirect_recursion(self, prev_node):\n",
      "        if self.next:\n",
      "_recursion(self).next.indirect\n",
      "        else:\n",
      "            print(self.value)\n",
      "\n",
      "root = Node(1)\n",
      "root.next = Node(2)\n",
      "root.next.next = Node(3)\n",
      "(4)t.next.next.next = Node\n",
      "\n",
      "root.indirect_recursion(None)  # Output: 4, 3, 2, 1\n",
      "```\n",
      " `value` and `next`. The `indirect_recursion` method is a recursive method that prints the value of the current node, and then recursively calls itself on the next node, with the current node as the `prev_node` argument. The recursion stops when there is no next node.\n",
      "\n",
      ", the recursive call is not made directly on the same object, but rather on a different object that is reachable through a chain of references."
     ]
    }
   ],
   "source": [
    "from langchain_nvidia_ai_endpoints import ChatNVIDIA\n",
    "\n",
    "client = ChatNVIDIA(\n",
    "  model=\"meta/llama3-8b-instruct\",\n",
    "  api_key=\"your api key\", \n",
    "  temperature=0.5,\n",
    "  top_p=1,\n",
    "  max_tokens=1024,\n",
    ")\n",
    "\n",
    "for chunk in client.stream([{\"role\":\"user\",\"content\":\"write a python code for tree recursion and indirect recursion using classes?\"}]): \n",
    "  print(chunk.content, end=\"\")\n"
   ]
  },
  {
   "cell_type": "code",
   "execution_count": null,
   "id": "23c977eb-d790-484d-9159-5065d26ec92e",
   "metadata": {},
   "outputs": [],
   "source": []
  }
 ],
 "metadata": {
  "kernelspec": {
   "display_name": "Python 3 (ipykernel)",
   "language": "python",
   "name": "python3"
  },
  "language_info": {
   "codemirror_mode": {
    "name": "ipython",
    "version": 3
   },
   "file_extension": ".py",
   "mimetype": "text/x-python",
   "name": "python",
   "nbconvert_exporter": "python",
   "pygments_lexer": "ipython3",
   "version": "3.12.8"
  }
 },
 "nbformat": 4,
 "nbformat_minor": 5
}
