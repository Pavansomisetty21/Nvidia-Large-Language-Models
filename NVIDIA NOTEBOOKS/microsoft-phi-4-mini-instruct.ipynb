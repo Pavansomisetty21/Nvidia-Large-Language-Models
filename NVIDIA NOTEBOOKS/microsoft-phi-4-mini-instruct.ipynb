{
 "cells": [
  {
   "cell_type": "code",
   "execution_count": 1,
   "id": "1557c3e6-a272-4910-a42c-6629d21353b5",
   "metadata": {},
   "outputs": [
    {
     "name": "stderr",
     "output_type": "stream",
     "text": [
      "C:\\Users\\PavanSomisetty\\anaconda3\\envs\\chatai\\Lib\\site-packages\\langchain_nvidia_ai_endpoints\\_common.py:212: UserWarning: Found microsoft/phi-4-mini-instruct in available_models, but type is unknown and inference may fail.\n",
      "  warnings.warn(\n"
     ]
    },
    {
     "name": "stdout",
     "output_type": "stream",
     "text": [
      "** the advent of large language models (LLMs) has been a transformative development in the field of artificial intelligence, revolutionizing the way we interact with technology and reshaping various industries. These sophisticated models, such as GPT-3, BERT, and T5, have demonstrated remarkable capabilities in understanding and generating human-like text, making them powerful tools for a wide range of applications. This essay explores the emergence of LLMs, their underlying technology, and their impact on various sectors.\n",
      "\n",
      "**Introduction**\n",
      "\n",
      "Large Language Models (LLMs) have emerged as a significant breakthrough in the field of artificial intelligence, pushing the boundaries of natural language processing (NLP) and machine learning. These models, characterized by their vast size and complexity, have demonstrated an unprecedented ability to understand and generate human-like text, making them powerful tools for a wide range of applications. LLMs have gained significant attention due to their potential to revolutionize various industries, from customer service and content creation to healthcare and education.\n",
      "\n",
      "**Understanding LLMs**\n",
      "\n",
      "Ms are a subset of neural networks, specifically designed to process and generate human language. They are trained on vast amounts of text data, allowing them to understand the nuances, context, and semantics of language. These models use deep learning techniques, such as transformers, to capture the relationships between words and phrases, enabling them to generate coherent and contextually relevant responses. The training process involves fine-tuning the model on specific tasks, such as translation, summarization, or question-answering, making them versatile and adaptable to various applications.\n",
      "\n",
      "**The Emergence of LLMs**\n",
      "\n",
      "The emergence of LLMs can be traced back to the development of transformer-based models, which marked a significant advancement in NLP. The transformer architecture, introduced in the paper \"Attention Is All You Need\" by Vaswani et al. in 2017, revolutionized the field by enabling models to process entire sequences of text simultaneously, rather than relying on sequential processing. This breakthrough paved the way for the development of models like BERT (Bidirectional Encoder Representations from Transformers) and GPT-3 (Generative Pre-trained Transformer 3), which have set new benchmarks in language understanding and generation.\n",
      "\n",
      "**Impact on Industries**\n",
      "\n",
      "The impact of LLMs is far-reaching, with potential applications across various industries. In customer service, LLMs can power chatbots and virtual assistants, providing instant and personalized responses to customer inquiries. In content creation, they can assist writers and journalists by generating articles, summaries, and even creative writing. In healthcare, LLMs can help doctors and researchers by summarizing medical literature and providing insights from patient records. In education, they can provide personalized learning experiences, answer student queries, and even create interactive learning materials.\n",
      "\n",
      "**Challenges and Ethical Considerations**\n",
      "\n",
      "Despite their potential, LLMs also present challenges and ethical considerations. One of the main challenges is the need for large amounts of data to train these models, raising concerns about privacy and data security. Additionally, the potential for bias in training data can lead to biased outputs, perpetuating existing inequalities. There are also concerns about the potential misuse of LLMs for generating fake news, deepfakes, and other forms of misinformation.\n",
      "\n",
      "**Conclusion**\n",
      "\n",
      "In conclusion, the advent of LLMs has been a transformative development in the field of artificial intelligence, with the potential to revolutionize various industries. While there are challenges and ethical considerations to address, the potential benefits of these models are immense. As the technology continues to evolve, it is crucial to strike a balance between harnessing their potential and addressing the associated risks, ensuring that LLMs are used responsibly and ethically to benefit society as a whole."
     ]
    }
   ],
   "source": [
    "from langchain_nvidia_ai_endpoints import ChatNVIDIA\n",
    "\n",
    "client = ChatNVIDIA(\n",
    "  model=\"microsoft/phi-4-mini-instruct\",\n",
    "  api_key=\"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\", \n",
    "  temperature=0.1,\n",
    "  top_p=0.7,\n",
    "  max_tokens=1024,\n",
    ")\n",
    "\n",
    "for chunk in client.stream([{\"role\":\"user\",\"content\":\"write an essay about llm?\"}]): \n",
    "  print(chunk.content, end=\"\")\n",
    "\n",
    "  \n"
   ]
  },
  {
   "cell_type": "code",
   "execution_count": null,
   "id": "f454a227-fdb3-4506-83e9-f8be01a5bacd",
   "metadata": {},
   "outputs": [],
   "source": []
  }
 ],
 "metadata": {
  "kernelspec": {
   "display_name": "Python 3 (ipykernel)",
   "language": "python",
   "name": "python3"
  },
  "language_info": {
   "codemirror_mode": {
    "name": "ipython",
    "version": 3
   },
   "file_extension": ".py",
   "mimetype": "text/x-python",
   "name": "python",
   "nbconvert_exporter": "python",
   "pygments_lexer": "ipython3",
   "version": "3.12.8"
  }
 },
 "nbformat": 4,
 "nbformat_minor": 5
}
