{
 "cells": [
  {
   "cell_type": "markdown",
   "id": "e066d744-bae0-437c-9cd4-ffe29d66c699",
   "metadata": {},
   "source": [
    "# classification"
   ]
  },
  {
   "cell_type": "code",
   "execution_count": 2,
   "id": "de93fb29-c292-4709-8f67-e06eae1950f2",
   "metadata": {},
   "outputs": [
    {
     "name": "stdout",
     "output_type": "stream",
     "text": [
      "The text \"you are beautiful\" is a positive and affirming statement. It expresses admiration and appreciation for oneself or someone else. It can be used to boost self-esteem or express admiration for a person's qualities."
     ]
    }
   ],
   "source": [
    "from langchain_nvidia_ai_endpoints import ChatNVIDIA\n",
    "\n",
    "client = ChatNVIDIA(\n",
    "  model=\"ibm/granite-3.0-3b-a800m-instruct\",\n",
    "  api_key=\"nvapikey \", \n",
    "  temperature=0.2,\n",
    "  top_p=0.7,\n",
    "  max_tokens=1024,\n",
    ")\n",
    "test=\"you are beautiful\"\n",
    "for chunk in client.stream([{\"role\":\"user\",\"content\":f\"classify the text{test}\"}]): \n",
    "  print(chunk.content, end=\"\")"
   ]
  },
  {
   "cell_type": "markdown",
   "id": "a709e576-3b55-4609-8357-d3d855233a34",
   "metadata": {},
   "source": [
    "# NER"
   ]
  },
  {
   "cell_type": "code",
   "execution_count": 3,
   "id": "df16a2be-112f-43db-8450-cb81efbf0079",
   "metadata": {},
   "outputs": [
    {
     "name": "stdout",
     "output_type": "stream",
     "text": [
      "1. Person: \"You\"\n",
      "2. Adjective: \"beautiful\"\n",
      "3. Noun: \"text\"\n",
      "\n",
      " entity, but a noun. The adjective \"beautiful\" is a descriptor of the person."
     ]
    }
   ],
   "source": [
    "from langchain_nvidia_ai_endpoints import ChatNVIDIA\n",
    "\n",
    "client = ChatNVIDIA(\n",
    "  model=\"ibm/granite-3.0-3b-a800m-instruct\",\n",
    "  api_key=\"nvapi key\", \n",
    "  temperature=0.2,\n",
    "  top_p=0.7,\n",
    "  max_tokens=1024,\n",
    ")\n",
    "test=\"you are beautiful\"\n",
    "for chunk in client.stream([{\"role\":\"user\",\"content\":f\"give named entities the text{test}\"}]): \n",
    "  print(chunk.content, end=\"\")"
   ]
  },
  {
   "cell_type": "markdown",
   "id": "99ae12ec-51a0-465a-a347-90b0d6247f91",
   "metadata": {},
   "source": [
    "# Text Generation"
   ]
  },
  {
   "cell_type": "code",
   "execution_count": 6,
   "id": "9f547fb2-43e9-4093-bd3a-e0c50a5e98bd",
   "metadata": {},
   "outputs": [
    {
     "name": "stdout",
     "output_type": "stream",
     "text": [
      "LLMS stands for Large Language Model. It's a type of artificial intelligence model designed to understand and generate human-like text based on the input it receives. These models are trained on a vast amount of text data and can be used for a variety of tasks such as translation, summarization, and answering questions."
     ]
    }
   ],
   "source": [
    "from langchain_nvidia_ai_endpoints import ChatNVIDIA\n",
    "\n",
    "client = ChatNVIDIA(\n",
    "  model=\"ibm/granite-3.0-3b-a800m-instruct\",\n",
    "  api_key=\"nvap iapi key\", \n",
    "  temperature=0.2,\n",
    "  top_p=0.7,\n",
    "  max_tokens=1024,\n",
    ")\n",
    "test=\"you are beautiful\"\n",
    "for chunk in client.stream([{\"role\":\"user\",\"content\":f\"what is  llms?\"}]): \n",
    "  print(chunk.content, end=\"\")"
   ]
  },
  {
   "cell_type": "code",
   "execution_count": null,
   "id": "2a08fcef-35d2-44bb-b8ff-50b744b1e3b4",
   "metadata": {},
   "outputs": [],
   "source": []
  }
 ],
 "metadata": {
  "kernelspec": {
   "display_name": "Python 3 (ipykernel)",
   "language": "python",
   "name": "python3"
  },
  "language_info": {
   "codemirror_mode": {
    "name": "ipython",
    "version": 3
   },
   "file_extension": ".py",
   "mimetype": "text/x-python",
   "name": "python",
   "nbconvert_exporter": "python",
   "pygments_lexer": "ipython3",
   "version": "3.12.8"
  }
 },
 "nbformat": 4,
 "nbformat_minor": 5
}
