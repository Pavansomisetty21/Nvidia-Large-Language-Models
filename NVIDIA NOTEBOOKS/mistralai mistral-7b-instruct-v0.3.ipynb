{
 "cells": [
  {
   "cell_type": "code",
   "execution_count": 15,
   "id": "ee0a67b9-7b0e-48a3-a5fe-7b3916f5ff77",
   "metadata": {},
   "outputs": [
    {
     "name": "stdout",
     "output_type": "stream",
     "text": [
      "To perform Named Entity Recognition (NER) on the sentence \"How are you\", we would typically not identify any named entities as it does not contain proper nouns, organizations, locations, or specific dates that are usually the focus of NER tasks. However, if we were to expand the sentence, for example, \"How are you, John Smith from New York City?\", then we would identify the following named entities:\n",
      "\n",
      " (John Smith)\n",
      "2. Location (New York City)\n",
      "\n",
      " View, California, on March 15, 2022\", the named entities would be:the CEO of Google, Sundar Pichai, at their headquarters in Mountain\n",
      "\n",
      "1. Person (Sundar Pichai)\n",
      "2. Organization (Google)\n",
      ". Location (Mountain View, California)\n",
      "4. Date (March 15, 2022)\n",
      "\n",
      " text. a crucial part of natural language processing and helps in identifying and categorizing key information in"
     ]
    }
   ],
   "source": [
    "from langchain_nvidia_ai_endpoints import ChatNVIDIA\n",
    "\n",
    "client = ChatNVIDIA(\n",
    "  model=\"mistralai/mistral-7b-instruct-v0.3\",\n",
    "  api_key=\"your api key\", \n",
    "  temperature=0.2,\n",
    "  top_p=0.7,\n",
    "  max_tokens=1024,\n",
    ")\n",
    "word=\"how are you\"\n",
    "for chunk in client.stream([{\"role\":\"user\",\"content\":f\" perform named entity recognition for {word}\"}]): \n",
    "  print(chunk.content, end=\"\")\n",
    "\n"
   ]
  },
  {
   "cell_type": "code",
   "execution_count": null,
   "id": "0849c55f-2b84-4ffa-b929-b838c3e9caf9",
   "metadata": {},
   "outputs": [],
   "source": []
  }
 ],
 "metadata": {
  "kernelspec": {
   "display_name": "Python 3 (ipykernel)",
   "language": "python",
   "name": "python3"
  },
  "language_info": {
   "codemirror_mode": {
    "name": "ipython",
    "version": 3
   },
   "file_extension": ".py",
   "mimetype": "text/x-python",
   "name": "python",
   "nbconvert_exporter": "python",
   "pygments_lexer": "ipython3",
   "version": "3.12.8"
  }
 },
 "nbformat": 4,
 "nbformat_minor": 5
}
