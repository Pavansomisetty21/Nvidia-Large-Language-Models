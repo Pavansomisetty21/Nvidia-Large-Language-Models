{
 "cells": [
  {
   "cell_type": "code",
   "execution_count": 1,
   "id": "ee0a67b9-7b0e-48a3-a5fe-7b3916f5ff77",
   "metadata": {},
   "outputs": [
    {
     "name": "stderr",
     "output_type": "stream",
     "text": [
      "C:\\Users\\PavanSomisetty\\anaconda3\\envs\\chatai\\Lib\\site-packages\\langchain_nvidia_ai_endpoints\\_common.py:212: UserWarning: Found deepseek-ai/deepseek-r1-distill-llama-8b in available_models, but type is unknown and inference may fail.\n",
      "  warnings.warn(\n"
     ]
    },
    {
     "name": "stdout",
     "output_type": "stream",
     "text": [
      "<think>\n",
      " number parts of both numbers. Both 9.11 and 9.8 have the same whole number, which is 9.\n",
      "\n",
      ". For 9.11, the decimal part is 0.11, while for 9.8, it is 0.8.\n",
      "\n",
      " is greater than 0.11, the decimal part of 9.8 is larger than that of 9.11.\n",
      "\n",
      ", 9.8 is the larger number.\n",
      "</think>\n",
      "\n",
      " between **9.11** and **9.8**, let's compare them step by step.\n",
      "\n",
      ":****Compare the Whole Numbers\n",
      " whole number part: **9**. same\n",
      "\n",
      ". **Compare the Decimal Parts:**\n",
      " - **9.11** has a decimal part of **0.11**.\n",
      " **9.8** can be written as **9.80** to make the comparison easier, with a decimal part of **0.80**.\n",
      "\n",
      " Which Decimal is Larger:**\n",
      "0.80** (from 9.8) is greater than **0.11** (from 9.11).\n",
      "\n",
      " the decimal part of **9.8** is larger than that of **9.11**, **9.8** is the larger number.\n",
      "\n",
      "\\[\n",
      "8}oxed{9.\n",
      "\\]"
     ]
    }
   ],
   "source": [
    "from langchain_nvidia_ai_endpoints import ChatNVIDIA\n",
    "\n",
    "client = ChatNVIDIA(\n",
    "  model=\"deepseek-ai/deepseek-r1-distill-llama-8b\",\n",
    "  api_key=\"api key\", \n",
    "  temperature=0.6,\n",
    "  top_p=0.7,\n",
    "  max_tokens=4096,\n",
    ")\n",
    "\n",
    "for chunk in client.stream([{\"role\":\"user\",\"content\":\"Which number is larger, 9.11 or 9.8?\"}]): \n",
    "  print(chunk.content, end=\"\")\n",
    "\n"
   ]
  },
  {
   "cell_type": "code",
   "execution_count": null,
   "id": "0849c55f-2b84-4ffa-b929-b838c3e9caf9",
   "metadata": {},
   "outputs": [],
   "source": []
  }
 ],
 "metadata": {
  "kernelspec": {
   "display_name": "Python 3 (ipykernel)",
   "language": "python",
   "name": "python3"
  },
  "language_info": {
   "codemirror_mode": {
    "name": "ipython",
    "version": 3
   },
   "file_extension": ".py",
   "mimetype": "text/x-python",
   "name": "python",
   "nbconvert_exporter": "python",
   "pygments_lexer": "ipython3",
   "version": "3.12.8"
  }
 },
 "nbformat": 4,
 "nbformat_minor": 5
}
