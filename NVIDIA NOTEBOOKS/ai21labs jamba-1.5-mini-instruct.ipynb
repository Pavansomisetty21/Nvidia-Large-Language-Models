{
 "cells": [
  {
   "cell_type": "code",
   "execution_count": 25,
   "id": "f3ebf286-2083-4067-be3c-5e21585db909",
   "metadata": {},
   "outputs": [
    {
     "name": "stdout",
     "output_type": "stream",
     "text": [
      " AI21, a leading artificial intelligence research and development organization, has been at the forefront of advancing AI capabilities, particularly in the realm of large language models (LLMs). Here's a brief history of AI21's notable models and milestones:\n",
      "\n",
      "### Early Developments\n",
      "\n",
      "7**: AI21 was founded with a focus on advancing AI research and applications.\n",
      "* **2018**: The organization began developing foundational models, laying the groundwork for future advancements in AI.\n",
      "\n",
      "### Key Milestones\n",
      "\n",
      " AI21 introduced its first significant language model, showcasing capabilities in natural language understanding and generation.\n",
      "021**: The organization released a series of smaller, task-specific models designed for various applications, including text summarization, translation, and question answering.\n",
      "\n",
      "### Major Releases\n",
      "\n",
      "22**: AI21 launched **Jamba**, a large language model designed to be more accessible and user-friendly. Jamba was notable for its balance between performance and efficiency, making advanced AI capabilities available to a broader audience.\n",
      " of **Jamba-2**, an improved version of its predecessor. Jamba-2 featured enhanced language understanding, better context retention, and improved performance in generating coherent and contextually relevant text.\n",
      "\n",
      " Developments\n",
      "\n",
      " the latest in its line of language models. Jamba-3 boasts significant advancements in reasoning, creativity, and multi-modal capabilities, allowing it to understand and generate content across various media types, including text, images, and audio.\n",
      "\n",
      "### Research and Development\n",
      "\n",
      " pushing the boundaries of AI research. The organization has published numerous papers in top-tier AI conferences and journals, contributing to the broader AI community's knowledge and understanding of large language models.\n",
      "\n",
      "s models have been integrated into various applications, from educational tools to customer service platforms, demonstrating the versatility and practical utility of their AI technologies. The organization continues to focus on improving the capabilities of its models while ensuring they are used responsibly and ethically."
     ]
    }
   ],
   "source": [
    "from langchain_nvidia_ai_endpoints import ChatNVIDIA\n",
    "\n",
    "client = ChatNVIDIA(\n",
    "  model=\"ai21labs/jamba-1.5-mini-instruct\",\n",
    "  api_key=\"your api key\", \n",
    "  temperature=0.2,\n",
    "  top_p=0.7,\n",
    "  max_tokens=1024,\n",
    ")\n",
    "\n",
    "for chunk in client.stream([{\"role\":\"user\",\"content\":\"history of ai21labs models\"}]): \n",
    "  print(chunk.content, end=\"\")\n",
    "\n"
   ]
  },
  {
   "cell_type": "code",
   "execution_count": null,
   "id": "23c977eb-d790-484d-9159-5065d26ec92e",
   "metadata": {},
   "outputs": [],
   "source": []
  }
 ],
 "metadata": {
  "kernelspec": {
   "display_name": "Python 3 (ipykernel)",
   "language": "python",
   "name": "python3"
  },
  "language_info": {
   "codemirror_mode": {
    "name": "ipython",
    "version": 3
   },
   "file_extension": ".py",
   "mimetype": "text/x-python",
   "name": "python",
   "nbconvert_exporter": "python",
   "pygments_lexer": "ipython3",
   "version": "3.12.8"
  }
 },
 "nbformat": 4,
 "nbformat_minor": 5
}
