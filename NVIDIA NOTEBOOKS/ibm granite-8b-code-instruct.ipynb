{
 "cells": [
  {
   "cell_type": "code",
   "execution_count": 17,
   "id": "b55a3557-486c-4333-9b0a-ce8e634ae564",
   "metadata": {},
   "outputs": [
    {
     "name": "stdout",
     "output_type": "stream",
     "text": [
      "Sure, here's an example implementation of the Tower of Hanoi and the Effiel Tower in Python:\n",
      "\n",
      " of Hanoi:\n",
      "```\n",
      " tower_of_hanoi(n, source, destination, auxiliary):\n",
      " > 0:f n\n",
      "_hanoi(n - 1, source, auxiliary, destination)\n",
      " disk\", n, \"from\", source, \"to\", destination)\n",
      "of_hanoi(n - 1, auxiliary, destination, source)\n",
      "\n",
      "n = 3\n",
      "_hanoi(n, 'A', 'C', 'B')\n",
      "```\n",
      "\n",
      "Effiel Tower:\n",
      "```\n",
      " source, destination):\n",
      "0:  if n > \n",
      " - 1, source, destination)\n",
      " print(\"Move disk\", n, \"from\", source, \"to\", destination)\n",
      "iel_tower(n - 1, destination, source)\n",
      "\n",
      "3 = \n",
      " 'A', 'C')er(n,\n",
      "```\n",
      "\n",
      " code, the function `tower_of_hanoi` takes four arguments: `n` (the number of disks), `source` (the source tower), `destination` (the destination tower), and `auxiliary` (the auxiliary tower). The function recursively moves the top `n-1` disks from the source tower to the auxiliary tower, then moves the largest disk from the source tower to the destination tower, and finally moves the `n-1` disks from the auxiliary tower to the destination tower.\n",
      "\n",
      "iel Tower code, the function `effiel_tower` takes three arguments: `n` (the number of disks), `source` (the source tower), and `destination` (the destination tower). The function recursively moves the top `n-1` disks from the source tower to the destination tower, then moves the largest disk from the source tower to the destination tower, and finally moves the `n-1` disks from the destination tower to the source tower.\n",
      "\n",
      " the problem. The Tower of Hanoi problem is a classic example of a recursive algorithm, while the Effiel Tower problem is a variation on the Tower of Hanoi problem."
     ]
    }
   ],
   "source": [
    "from langchain_nvidia_ai_endpoints import ChatNVIDIA\n",
    "\n",
    "client = ChatNVIDIA(\n",
    "  model=\"ibm/granite-8b-code-instruct\",\n",
    "  api_key=\"api key\", \n",
    "  temperature=0.5,\n",
    "  top_p=1,\n",
    "  max_tokens=1024,\n",
    ")\n",
    "\n",
    "for chunk in client.stream([{\"role\":\"user\",\"content\":\"write a code for tower of hanoi and effiel tower  in python?\"}]): \n",
    "  print(chunk.content, end=\"\")\n",
    "\n"
   ]
  },
  {
   "cell_type": "code",
   "execution_count": null,
   "id": "c3f70733-2019-4dd5-81df-e84040502573",
   "metadata": {},
   "outputs": [],
   "source": []
  }
 ],
 "metadata": {
  "kernelspec": {
   "display_name": "Python 3 (ipykernel)",
   "language": "python",
   "name": "python3"
  },
  "language_info": {
   "codemirror_mode": {
    "name": "ipython",
    "version": 3
   },
   "file_extension": ".py",
   "mimetype": "text/x-python",
   "name": "python",
   "nbconvert_exporter": "python",
   "pygments_lexer": "ipython3",
   "version": "3.12.8"
  }
 },
 "nbformat": 4,
 "nbformat_minor": 5
}
