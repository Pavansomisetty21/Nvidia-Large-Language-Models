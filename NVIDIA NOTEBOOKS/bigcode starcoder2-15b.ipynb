{
 "cells": [
  {
   "cell_type": "code",
   "execution_count": 36,
   "id": "f3ebf286-2083-4067-be3c-5e21585db909",
   "metadata": {},
   "outputs": [
    {
     "name": "stdout",
     "output_type": "stream",
     "text": [
      "\n",
      "\n",
      "#include<stdio.h>\n",
      "\n",
      "void tower(int n,char from,char to,char aux)\n",
      "{\n",
      "\tif(n==1)\n",
      "\t{\n",
      "\t\tprintf(\"move disk 1 from %c to %c\\n\",from,to);\n",
      "\t\treturn;\n",
      "\t}\n",
      "\ttower(n-1,from,aux,to);\n",
      "\tprintf(\"move disk %d from %c to %c\\n\",n,from,to);\n",
      "\ttower(n-1,aux,to,from);\n",
      "}\n",
      "\n",
      "int main()\n",
      "{\n",
      "\tint n;\n",
      "\tprintf(\"enter the number of disks\\n\");\n",
      "\tscanf(\"%d\",&n);\n",
      "\ttower(n,'A','C','B');\n",
      "\treturn 0;\n",
      "}\n",
      "<file_sep>/c/cprograms/cfits/cfits/cfits.c\n",
      "//program to create a fits file\n",
      "\n"
     ]
    }
   ],
   "source": [
    "from openai import OpenAI\n",
    "\n",
    "client = OpenAI(\n",
    "  base_url = \"https://integrate.api.nvidia.com/v1\",\n",
    "  api_key = \"your api key\"\n",
    ")\n",
    "\n",
    "completion = client.completions.create(\n",
    "  model=\"bigcode/starcoder2-15b\",\n",
    "  prompt=\"function for tower of hanoi in c\",\n",
    "  temperature=0.1,\n",
    "  top_p=0.7,\n",
    "  max_tokens=200,\n",
    "  stream=False\n",
    ")\n",
    "\n",
    "print(completion.choices[0].text)\n",
    "\n"
   ]
  },
  {
   "cell_type": "code",
   "execution_count": null,
   "id": "23c977eb-d790-484d-9159-5065d26ec92e",
   "metadata": {},
   "outputs": [],
   "source": []
  }
 ],
 "metadata": {
  "kernelspec": {
   "display_name": "Python 3 (ipykernel)",
   "language": "python",
   "name": "python3"
  },
  "language_info": {
   "codemirror_mode": {
    "name": "ipython",
    "version": 3
   },
   "file_extension": ".py",
   "mimetype": "text/x-python",
   "name": "python",
   "nbconvert_exporter": "python",
   "pygments_lexer": "ipython3",
   "version": "3.12.8"
  }
 },
 "nbformat": 4,
 "nbformat_minor": 5
}
