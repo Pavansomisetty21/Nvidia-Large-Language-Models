{
 "cells": [
  {
   "cell_type": "code",
   "execution_count": null,
   "id": "f3ebf286-2083-4067-be3c-5e21585db909",
   "metadata": {},
   "outputs": [
    {
     "name": "stdout",
     "output_type": "stream",
     "text": [
      "In Arabic, \"pavan somisetty is a good boy\" can be translated as \"بافن سوميسيتي هو فتى جيد.\"\n",
      "\n",
      "In Urdu, it can be translated as \"پاون سومیستی اچھا"
     ]
    }
   ],
   "source": [
    "from langchain_nvidia_ai_endpoints import ChatNVIDIA\n",
    "\n",
    "client = ChatNVIDIA(\n",
    "  model=\"01-ai/yi-large\",\n",
    "  api_key=\"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\", \n",
    "  temperature=0.2,\n",
    "  top_p=0.7,\n",
    "  max_tokens=1024,\n",
    ")\n",
    "\n",
    "for chunk in client.stream([{\"role\":\"user\",\"content\":\"pavan somisetty is a good boy covert this into arabic and urdu\"}]): \n",
    "  print(chunk.content, end=\"\")\n",
    "\n"
   ]
  },
  {
   "cell_type": "code",
   "execution_count": null,
   "id": "23c977eb-d790-484d-9159-5065d26ec92e",
   "metadata": {},
   "outputs": [],
   "source": []
  }
 ],
 "metadata": {
  "kernelspec": {
   "display_name": "Python 3 (ipykernel)",
   "language": "python",
   "name": "python3"
  },
  "language_info": {
   "codemirror_mode": {
    "name": "ipython",
    "version": 3
   },
   "file_extension": ".py",
   "mimetype": "text/x-python",
   "name": "python",
   "nbconvert_exporter": "python",
   "pygments_lexer": "ipython3",
   "version": "3.12.8"
  }
 },
 "nbformat": 4,
 "nbformat_minor": 5
}
