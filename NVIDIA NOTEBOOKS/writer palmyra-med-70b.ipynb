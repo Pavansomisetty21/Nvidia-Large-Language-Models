{
 "cells": [
  {
   "cell_type": "code",
   "execution_count": 6,
   "id": "d5204cde-78cb-4a2f-a599-d58e9f0c164a",
   "metadata": {},
   "outputs": [
    {
     "name": "stdout",
     "output_type": "stream",
     "text": [
      "What a fascinating question!\n",
      "\n",
      " San (DXS) is a traditional Chinese medicine formula that has been used to treat various mental health conditions, including depression. The question you've asked is quite specific and relates to the potential mechanism by which DXS may exert its antidepressant effects.\n",
      "\n",
      "2,3-dioxygenase (IDO) is an enzyme that plays a crucial role in the metabolism of tryptophan, an essential amino acid. Tryptophan is a precursor to serotonin, a neurotransmitter involved in mood regulation. Increased activity of IDO can lead to the depletion of tryptophan and subsequently reduce serotonin levels, which may contribute to depressive symptoms.\n",
      "\n",
      " an impact on IDO activity and serotonin levels. One study published in the Journal of Affective Disorders found that DXS treatment decreased IDO expression in the hippocampus of rats with chronic unpredictable stress-induced depressive-like behavior. This decrease in IDO was accompanied by increased serotonin levels and improved depressive-like symptoms.\n",
      "\n",
      " in the European Journal of Pharmacology found similar results, where DXS administration reduced IDO activity and increased serotonin levels in the hippocampus of mice with depression-like behavior induced by lipopolysaccharide.\n",
      "\n",
      " these findings are promising, it's important to note that the exact mechanisms underlying the effects of DXS on IDO and serotonin are not yet fully understood and require further investigation.\n",
      "\n",
      "zhi Xiaoyao San may ameliorate depressive-like behavior by shifting toward serotonin via the downregulation of hippocampal indoleamine 2,3-dioxygenase. However, more research is needed to confirm these findings and elucidate the precise mechanisms involved."
     ]
    }
   ],
   "source": [
    "from openai import OpenAI\n",
    "\n",
    "client = OpenAI(\n",
    "  base_url = \"https://integrate.api.nvidia.com/v1\",\n",
    "  api_key = \"your api key\"\n",
    ")\n",
    "\n",
    "completion = client.chat.completions.create(\n",
    "  model=\"writer/palmyra-med-70b\",\n",
    "  messages=[{\"role\":\"user\",\"content\":\"Does danzhi Xiaoyao San ameliorate depressive-like behavior by shifting toward serotonin via the downregulation of hippocampal indoleamine 2,3-dioxygenase?\"}],\n",
    "  temperature=0.2,\n",
    "  top_p=0.7,\n",
    "  max_tokens=1024,\n",
    "  stream=True\n",
    ")\n",
    "\n",
    "for chunk in completion:\n",
    "  if chunk.choices[0].delta.content is not None:\n",
    "    print(chunk.choices[0].delta.content, end=\"\")\n",
    "\n"
   ]
  },
  {
   "cell_type": "code",
   "execution_count": null,
   "id": "67b1eb6d-6eab-472b-88d7-f4df33a4fbe7",
   "metadata": {},
   "outputs": [],
   "source": []
  }
 ],
 "metadata": {
  "kernelspec": {
   "display_name": "Python 3 (ipykernel)",
   "language": "python",
   "name": "python3"
  },
  "language_info": {
   "codemirror_mode": {
    "name": "ipython",
    "version": 3
   },
   "file_extension": ".py",
   "mimetype": "text/x-python",
   "name": "python",
   "nbconvert_exporter": "python",
   "pygments_lexer": "ipython3",
   "version": "3.12.8"
  }
 },
 "nbformat": 4,
 "nbformat_minor": 5
}
