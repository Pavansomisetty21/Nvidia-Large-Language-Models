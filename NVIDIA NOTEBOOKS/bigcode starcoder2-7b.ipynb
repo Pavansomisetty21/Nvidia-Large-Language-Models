{
 "cells": [
  {
   "cell_type": "code",
   "execution_count": null,
   "id": "f3ebf286-2083-4067-be3c-5e21585db909",
   "metadata": {},
   "outputs": [],
   "source": [
    "from openai import OpenAI\n",
    "\n",
    "client = OpenAI(\n",
    "  base_url = \"https://integrate.api.nvidia.com/v1\",\n",
    "  api_key = \"you api key\"\n",
    ")\n",
    "\n",
    "completion = client.completions.create(\n",
    "  model=\"bigcode/starcoder2-7b\",\n",
    "  prompt=\"code   merge sort in c:\",\n",
    "  temperature=0.1,\n",
    "  top_p=0.7,\n",
    "  max_tokens=2000,\n",
    "  stream=False\n",
    ")\n",
    "\n",
    "print(completion.choices[0].text)\n",
    "\n"
   ]
  },
  {
   "cell_type": "code",
   "execution_count": null,
   "id": "23c977eb-d790-484d-9159-5065d26ec92e",
   "metadata": {},
   "outputs": [],
   "source": []
  }
 ],
 "metadata": {
  "kernelspec": {
   "display_name": "Python 3 (ipykernel)",
   "language": "python",
   "name": "python3"
  },
  "language_info": {
   "codemirror_mode": {
    "name": "ipython",
    "version": 3
   },
   "file_extension": ".py",
   "mimetype": "text/x-python",
   "name": "python",
   "nbconvert_exporter": "python",
   "pygments_lexer": "ipython3",
   "version": "3.12.8"
  }
 },
 "nbformat": 4,
 "nbformat_minor": 5
}
