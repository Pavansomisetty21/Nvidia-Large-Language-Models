{
 "cells": [
  {
   "cell_type": "code",
   "execution_count": 18,
   "id": "f3ebf286-2083-4067-be3c-5e21585db909",
   "metadata": {},
   "outputs": [
    {
     "name": "stdout",
     "output_type": "stream",
     "text": [
      "Indian law, also known as Indian jurisprudence, is a complex and diverse system of laws that governs the relationships between the Indian government, its citizens, and the private sector. The Indian Constitution, which came into effect in 1950, is the supreme law of the land and serves as the foundation for Indian law.\n",
      "\n",
      "**Key Features of Indian Law**\n",
      "\n",
      " central government and the states, with the states having significant autonomy in matters such as law and order, taxation, and public services.er between the\n",
      " the foundation for Indian law. It is divided into seven parts, including the Preamble, the Fundamental Rights, the Directive Principles of State Policy, and the Fundamental Duties of Citizens.\n",
      " based on the Citizenship Act, 1955, which defines the rights and responsibilities of citizens. The Act also provides for the right to vote, to hold public office, and to participate in the administration of justice.\n",
      " Indian Penal Code (IPC) and the Code of Criminal Procedure (CrPC) are the primary laws governing law and order in India. The IPC provides for the punishment of crimes, while the CrPC outlines the procedures for investigating and prosecuting crimes.\n",
      " Indian Economic Policy, 1944, and the Economic Survey, 2019, provide a framework for economic development and growth. The Reserve Bank of India (RBI) and the Central Statistical Office (CSO) are responsible for regulating the economy.\n",
      "\n",
      "**Key Laws and Regulations**\n",
      "\n",
      "1. **Indian Constitution**: The Indian Constitution is the supreme law of the land and serves as the foundation for Indian law.\n",
      " crimes.ian Penal Code (IPC)**: The IPC provides for the punishment of crimes and outlines the procedures for investigating and prosecuting\n",
      "3. **Code of Criminal Procedure (CrPC)**: The CrPC outlines the procedures for investigating and prosecuting crimes.\n",
      "4. **Indian Evidence Act, 1872**: The Indian Evidence Act provides for the admissibility of evidence in court.\n",
      ". **Indian Contract Act, 1872**: The Indian Contract Act provides for the formation and enforcement of contracts.\n",
      " among heirs.uccession Act, 1956**: The Indian Succession Act provides for the transfer of property and the distribution of assets\n",
      "7. **Indian Succession (Amendment) Act, 2005**: The Indian Succession (Amendment) Act provides for the transfer of property and the distribution of assets among heirs.\n",
      "\n",
      "**Key Institutions**\n",
      "\n",
      " Court**: The Supreme Court is the highest court in India and has the power to interpret the Constitution and the laws of the land.\n",
      "2. **High Courts**: The High Courts are the superior courts of each state and have the power to hear appeals from lower courts.\n",
      "3. **District Courts**: The District Courts are the first level of courts in each state and have the power to hear civil and criminal cases.\n",
      " the Indian Penal Code and the Code of Criminal Procedure. the Magistrates' Courts and the Metropolitan Magistrates' Courts, have the power to hear cases under\n",
      "\n",
      "**Key Issues in Indian Law**\n",
      "\n",
      "1. **Article 14 and 15**: The Indian Constitution's provisions on equality and non-discrimination have been the subject of much debate and controversy.\n",
      "Article 19 and 20**: The Indian Constitution's provisions on freedom of speech and expression have been the subject of much debate and controversy.\n",
      " life have been the subject of much debate and controversy.ons on the right to property and the right to\n",
      "4. **The Right to Life and Liberty**: The Indian Constitution's provisions on the right to life and liberty have been the subject of much debate and controversy.\n",
      " The Indian Constitution's provisions on equality have been the subject of much debate and controversy.\n",
      "\n",
      "**Challenges to Indian Law**\n",
      "\n",
      "1. **Lack of Transparency**: The Indian government has been criticized for its lack of transparency in its decision-making processes.\n",
      "2. **Corruption**: Corruption has been a major challenge to the Indian government and its institutions.\n",
      "3. **Inequality**: The Indian Constitution's provisions on equality have been criticized for not going far enough in addressing the issue of inequality.\n",
      "4. **Disproportionate Sentencing**: The Indian Penal Code has been criticized for its disproportionate sentencing of certain groups, such as women and minorities.\n",
      " for its lack of access to justice for certain groups, such as women and minorities.\n",
      "\n",
      "**Opportunities for Improvement**\n",
      "\n",
      "1. **Strengthening the Rule of Law**: Strengthening the rule of"
     ]
    }
   ],
   "source": [
    "from langchain_nvidia_ai_endpoints import ChatNVIDIA\n",
    "\n",
    "client = ChatNVIDIA(\n",
    "  model=\"meta/llama-3.2-1b-instruct\",\n",
    "  api_key=\"api key\", \n",
    "  temperature=0.2,\n",
    "  top_p=0.7,\n",
    "  max_tokens=1024,\n",
    ")\n",
    "\n",
    "for chunk in client.stream([{\"role\":\"user\",\"content\":\"write about indian law\"}]): \n",
    "  print(chunk.content, end=\"\")\n",
    "\n",
    "  \n"
   ]
  },
  {
   "cell_type": "code",
   "execution_count": null,
   "id": "23c977eb-d790-484d-9159-5065d26ec92e",
   "metadata": {},
   "outputs": [],
   "source": []
  }
 ],
 "metadata": {
  "kernelspec": {
   "display_name": "Python 3 (ipykernel)",
   "language": "python",
   "name": "python3"
  },
  "language_info": {
   "codemirror_mode": {
    "name": "ipython",
    "version": 3
   },
   "file_extension": ".py",
   "mimetype": "text/x-python",
   "name": "python",
   "nbconvert_exporter": "python",
   "pygments_lexer": "ipython3",
   "version": "3.12.8"
  }
 },
 "nbformat": 4,
 "nbformat_minor": 5
}
