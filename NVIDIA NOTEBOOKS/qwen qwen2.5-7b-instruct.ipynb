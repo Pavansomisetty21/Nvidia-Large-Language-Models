{
 "cells": [
  {
   "cell_type": "code",
   "execution_count": 1,
   "id": "ee0a67b9-7b0e-48a3-a5fe-7b3916f5ff77",
   "metadata": {},
   "outputs": [
    {
     "name": "stderr",
     "output_type": "stream",
     "text": [
      "C:\\Users\\PavanSomisetty\\anaconda3\\envs\\chatai\\Lib\\site-packages\\langchain_nvidia_ai_endpoints\\_common.py:212: UserWarning: Found qwen/qwen2.5-7b-instruct in available_models, but type is unknown and inference may fail.\n",
      "  warnings.warn(\n"
     ]
    },
    {
     "name": "stdout",
     "output_type": "stream",
     "text": [
      "Certainly! The Tower of Hanoi is a classic problem that involves moving a stack of disks from one peg to another, following certain rules. Here's a complete implementation of the Tower of Hanoi problem in Python:\n",
      "\n",
      "```python\n",
      " towerofhanoi(n, source, auxiliary, target):\n",
      "    \"\"\"\n",
      " for n disks. Tower of Hanoi problem\n",
      "\n",
      "    Parameters:\n",
      "int): Number of disks.\n",
      " The source peg (e.g., 'A').\n",
      " auxiliary (str): The auxiliary peg (e.g., 'B').\n",
      " peg (e.g., 'C'). The target\n",
      "    \"\"\"\n",
      "    if n == 1:\n",
      "Move disk 1 from {source} to {target}\")\n",
      "        return\n",
      "-1, source, target, auxiliary)\n",
      "(f\"Move disk {n} from {source} to {target}\")\n",
      "-1, auxiliary, source, target)\n",
      "\n",
      " Example usage:\n",
      " disks # Number of\n",
      " 'B', 'C')oi(n, 'A',\n",
      "```\n",
      "\n",
      ":n this code\n",
      "- `n` is the number of disks.\n",
      "- `source` is the starting peg (e.g., 'A').\n",
      " auxiliary peg (e.g., 'B').\n",
      " `target` is the destination peg (e.g., 'C').\n",
      "\n",
      "` is a recursive function that solves the problem by breaking it down into smaller subproblems. The base case is when there is only one disk, which is moved directly from the source to the target peg. For more than one disk, the function recursively moves `n-1` disks from the source to the auxiliary peg, then moves the nth disk from the source to the target peg, and finally moves the `n-1` disks from the auxiliary to the target peg."
     ]
    }
   ],
   "source": [
    "from langchain_nvidia_ai_endpoints import ChatNVIDIA\n",
    "\n",
    "client = ChatNVIDIA(\n",
    "  model=\"qwen/qwen2.5-7b-instruct\",\n",
    "  api_key=your api key, \n",
    "  temperature=0.2,\n",
    "  top_p=0.7,\n",
    "  max_tokens=1024,\n",
    ")\n",
    "\n",
    "for chunk in client.stream([{\"role\":\"user\",\"content\":\"complete the code def towerofhanoi():\"}]): \n",
    "  print(chunk.content, end=\"\")\n",
    "\n"
   ]
  },
  {
   "cell_type": "code",
   "execution_count": null,
   "id": "606e8f02-9189-437c-bc70-96d1377bf956",
   "metadata": {},
   "outputs": [],
   "source": []
  }
 ],
 "metadata": {
  "kernelspec": {
   "display_name": "Python 3 (ipykernel)",
   "language": "python",
   "name": "python3"
  },
  "language_info": {
   "codemirror_mode": {
    "name": "ipython",
    "version": 3
   },
   "file_extension": ".py",
   "mimetype": "text/x-python",
   "name": "python",
   "nbconvert_exporter": "python",
   "pygments_lexer": "ipython3",
   "version": "3.12.8"
  }
 },
 "nbformat": 4,
 "nbformat_minor": 5
}
